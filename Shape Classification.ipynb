{
 "cells": [
  {
   "cell_type": "markdown",
   "metadata": {},
   "source": [
    "<h1><center>Data Generation - Time Series</center></h1>"
   ]
  },
  {
   "cell_type": "markdown",
   "metadata": {},
   "source": [
    "# Table of Contents \n",
    "\n",
    "- [Generate data](#generate_data)\n",
    "    - [Horizontal](#horizontal)\n",
    "    - [Single Spike Up](#single_spike_up)\n",
    "    - [Single Spike Down](#single_spike_down)\n",
    "    - [Hill](#hill)\n",
    "    - [Dip](#dip)\n",
    "    - [Chainsaw](#chainsaw)\n",
    "    - [Upward Trend](#upward_trend)\n",
    "    - [Downward Trend](#downward_trend)\n",
    "    - [Cliff Up](#cliff_up)\n",
    "    - [Cliff Down](#cliff_down)\n",
    "    - [Several Spikes Up](#several_spikes_up)\n",
    "    - [Several Spikes Down](#several_spikes_down)\n",
    "    \n",
    "- [Plots](#plotting)"
   ]
  },
  {
   "cell_type": "markdown",
   "metadata": {},
   "source": [
    "**TODO:**\n",
    "- Change m, r and x values to realistic ones. (~50)\n",
    "- Normalize!"
   ]
  },
  {
   "cell_type": "code",
   "execution_count": 250,
   "metadata": {},
   "outputs": [
    {
     "name": "stdin",
     "output_type": "stream",
     "text": [
      "How long are your time series (# of days)? 30\n",
      "Give the number of samples to generate for each category 5000\n"
     ]
    }
   ],
   "source": [
    "from random import randint, uniform\n",
    "import numpy as np\n",
    "import matplotlib.pylab as plt\n",
    "\n",
    "TIMESTAMPS = int(input(\"How long are your time series (# of days)?\"))\n",
    "N_SAMPLES = int(input(\"Give the number of samples to generate for each category\"))"
   ]
  },
  {
   "cell_type": "code",
   "execution_count": 678,
   "metadata": {},
   "outputs": [],
   "source": [
    "t0 = 0\n",
    "t_max = TIMESTAMPS - 1\n",
    "\n",
    "def horizontal_shape(m=randint(0,10000), r=randint(0,500)): \n",
    "    \"\"\"Generates a horizontal shape\"\"\"\n",
    "    \n",
    "    r_modulated = r*uniform(-1, 1)\n",
    "    return max(0, m + r_modulated)\n",
    "\n",
    "def single_spike_up(t, d, m=randint(0, 10000), r=randint(0,500), x=randint(0, 5000), t3 = randint(t0 + 1, t_max - 2)):\n",
    "    \"\"\"Generates shape containing a single spike up\"\"\"\n",
    "    x_modulated = x*uniform(0, 1)\n",
    "    r_modulated = r*uniform(-1,1)\n",
    "        \n",
    "    k = 0\n",
    "    if(t <= t3+d and t >= t3):\n",
    "        k = 1\n",
    "    \n",
    "    return max(0, m + r_modulated + k*x_modulated)  \n",
    "\n",
    "def single_spike_down(t, d, m=randint(5000, 10000), r=randint(0,500), x=randint(0, 5000), t3 = randint(t0 + 1, t_max - 2)):  \n",
    "    \"\"\"Generates shape containing a single spike down\"\"\"\n",
    "    \n",
    "    x_modulated = x*uniform(0, -1)\n",
    "    r_modulated = r*uniform(-1,1)\n",
    "    \n",
    "    k = 0\n",
    "    if(t <= t3+d and t >= t3):\n",
    "        k = 1\n",
    "    \n",
    "    return max(0, m + r_modulated + k*x_modulated) \n",
    "\n",
    "def hill(t, d, m=randint(0, 10000), r=randint(0,500), x=randint(0, 5000), t3 = randint(t0 + 1, t_max - 2)):   \n",
    "    \"\"\"Generates a hill shape\"\"\"\n",
    "\n",
    "    x_modulated = x*uniform(0, 1)\n",
    "    r_modulated = r*uniform(-1,1)\n",
    "    \n",
    "    k = 0\n",
    "    if(t <= t3+d and t >= t3):\n",
    "        k = 1\n",
    "    \n",
    "    return max(0, m + r_modulated + k*x_modulated) \n",
    "\n",
    "def dip(t, d, m=randint(0, 10000), r=randint(0,500), x=randint(0, 5000), t3 = randint(t0 + 1, t_max - 2)):\n",
    "    \"\"\"Generates a hill shape\"\"\"\n",
    "    \n",
    "    x_modulated = x*uniform(0, -1)\n",
    "    r_modulated = r*uniform(-1,1)\n",
    "    \n",
    "    k = 0\n",
    "    if(t <= t3+d and t >= t3):\n",
    "        k = 1\n",
    "    \n",
    "    return max(0, m + r_modulated + k*x_modulated) \n",
    "\n",
    "def chainsaw(m=randint(0,10000), r=randint(500,5000)): \n",
    "    \"\"\"Generates a chainsaw shape\"\"\"\n",
    "    \n",
    "    r_modulated = r*uniform(-1, 1)\n",
    "    return max(0, m + r_modulated)\n",
    "\n",
    "def upward_trend(t, m=randint(0, 10000), r=randint(0,500)):    \n",
    "    \"\"\"Generates an upward trend shape\"\"\"\n",
    "    \n",
    "    g_modulated = uniform(250, 500)\n",
    "    r_modulated = r*uniform(-1, 1)\n",
    "    return max(0, m + r_modulated + t*g_modulated)\n",
    " \n",
    "def cliff_up(t, d, m=randint(0, 10000), r=randint(0,500), x=randint(0, 5000), t3 = randint(t0 + 5, t_max)):  \n",
    "    \"\"\"Generates a cliff up shape\"\"\"\n",
    "    \n",
    "    r_modulated = r*uniform(-1,1)\n",
    "    \n",
    "    k = 0\n",
    "    if(t <= t3+d and t >= t3):\n",
    "        k = 1\n",
    "    \n",
    "    return max(0, m + r_modulated + k*x)       \n",
    "\n",
    "def several_spike_up(t, k, m=randint(0, 10000), r=randint(0,500), x=randint(0, 5000)):   \n",
    "    \"\"\"Generates a shape with several spikes up\"\"\"\n",
    "    \n",
    "    x_modulated = x*uniform(0, 1)\n",
    "    r_modulated = r*uniform(-1,1)\n",
    "            \n",
    "    return max(0, m + r_modulated + k*x_modulated)  \n",
    "\n",
    "def several_spike_down(t, k, m=randint(0, 10000), r=randint(0,500), x=randint(0, 5000)):  \n",
    "    \"\"\"Generates a shape with several spikes down\"\"\"\n",
    "    \n",
    "    x_modulated = x*uniform(0, -1)\n",
    "    r_modulated = r*uniform(-1,1)\n",
    "            \n",
    "    return max(0, m + r_modulated + k*x_modulated)  "
   ]
  },
  {
   "cell_type": "code",
   "execution_count": 593,
   "metadata": {},
   "outputs": [],
   "source": [
    "def generate_ks(spikes, len_ts):\n",
    "    \"\"\"Randomly generate an array of 0s and 1s where 1s are spikes\"\"\"\n",
    "    #Track nubmer of spikes left\n",
    "    spikes_left = spikes\n",
    "    \n",
    "    #Initiliaze array of results\n",
    "    ks = [0]*len_ts\n",
    "    \n",
    "    #Keep looping until we insert spikes\n",
    "    while(spikes_left > 0):\n",
    "        for _ in range(spikes_left):\n",
    "            #Randomly pick size of peak\n",
    "            len_spike = randint(1,2)\n",
    "            \n",
    "            #Randomly pick where the peak starts\n",
    "            idx = randint(0, len_ts - len_spike - 1)\n",
    "            \n",
    "            #Check whether insertion is possible at that index\n",
    "            flag = check_valid(ks, idx, len_spike, len_ts)\n",
    "            \n",
    "            if(flag):\n",
    "                #Insert 1s for peak\n",
    "                for i in range(idx, idx+len_spike):\n",
    "                    ks[i] = 1\n",
    "                #Decrement number of spikes left    \n",
    "                spikes_left -= 1\n",
    "    return ks\n",
    "\n",
    "def check_valid(ks, idx, len_spike, len_ts):\n",
    "    \"\"\"Checks if insertion in array of 0s and 1s is possible at index\"\"\"\n",
    "    \n",
    "    #Case where a peak is already there\n",
    "    if(ks[idx] == 1 or ks[idx+len_spike] == 1):\n",
    "        return False\n",
    "    #Case where we are in the \"middle\" of the array\n",
    "    if(idx-1 >0 and idx+len_spike<len_ts):\n",
    "        flag = ks[idx-1] == 0 and ks[idx+len_spike] == 0\n",
    "        \n",
    "    #Case where we are limited from the right side    \n",
    "    elif(idx-1 > 0 and idx+len_spike>len_ts):\n",
    "        flag = ks[idx-1] == 0\n",
    "        \n",
    "    #Case where we are limited from the left side    \n",
    "    elif(idx+len_spike < len_ts):\n",
    "        flag = ks[idx+len_spike] == 0\n",
    "    else:\n",
    "        flag = 1\n",
    "    \n",
    "    #Print for history\n",
    "    #print(flag, idx, len_spike)\n",
    "    return bool(flag)"
   ]
  },
  {
   "cell_type": "markdown",
   "metadata": {},
   "source": [
    "# Data Generation"
   ]
  },
  {
   "cell_type": "markdown",
   "metadata": {},
   "source": [
    "<a id=\"horizontal\"></a>\n",
    "\n",
    "## Horizontal "
   ]
  },
  {
   "cell_type": "code",
   "execution_count": 156,
   "metadata": {},
   "outputs": [
    {
     "name": "stdout",
     "output_type": "stream",
     "text": [
      "Generated 500 Horizontal samples!\n"
     ]
    }
   ],
   "source": [
    "horizontals = []\n",
    "time = np.arange(TIMESTAMPS)\n",
    "\n",
    "for _ in range(N_SAMPLES):\n",
    "    m_random, r_random = randint(0,10000), randint(0,500)\n",
    "    y_horizontal = np.array([horizontal_shape(m=m_random, r=r_random) for x in time])\n",
    "    horizontals.append(y_horizontal)\n",
    "print('Generated', N_SAMPLES, 'Horizontal samples!')"
   ]
  },
  {
   "cell_type": "markdown",
   "metadata": {},
   "source": [
    "<a id=\"single_spike_up\"></a>\n",
    "\n",
    "## Single Spike Up"
   ]
  },
  {
   "cell_type": "code",
   "execution_count": 204,
   "metadata": {},
   "outputs": [
    {
     "name": "stdout",
     "output_type": "stream",
     "text": [
      "Generated 5000 Single Spike Up samples!\n"
     ]
    }
   ],
   "source": [
    "single_spike_ups = []\n",
    "time = np.arange(TIMESTAMPS)\n",
    "\n",
    "for i in range(N_SAMPLES):\n",
    "    m_random, r_random, x_random, t3 = randint(0,10000), randint(0,500), randint(4000, 5000), randint(t0 + 1, t_max - 2)\n",
    "    d_ssu = randint(1, 3)\n",
    "    y_ssu = np.array([single_spike_up(t=x, m=m_random, r=r_random, x=x_random, t3=t3, d=d_ssu) for x in time])\n",
    "    single_spike_ups.append(y_ssu)\n",
    "print('Generated', N_SAMPLES, 'Single Spike Up samples!')"
   ]
  },
  {
   "cell_type": "markdown",
   "metadata": {},
   "source": [
    "<a id=\"single_spike_down\"></a>\n",
    "\n",
    "## Single Spike Down"
   ]
  },
  {
   "cell_type": "code",
   "execution_count": 208,
   "metadata": {},
   "outputs": [
    {
     "name": "stdout",
     "output_type": "stream",
     "text": [
      "Generated 5000 Single Spike Down samples!\n"
     ]
    }
   ],
   "source": [
    "single_spike_downs = []\n",
    "time = np.arange(TIMESTAMPS)\n",
    "\n",
    "for i in range(N_SAMPLES):\n",
    "    m_random, r_random, x_random, t3 = randint(0,10000), randint(0,500), randint(0, 5000), randint(t0 + 1, t_max - 2)\n",
    "    d_ssd = randint(1, 3)\n",
    "    y_ssd = np.array([single_spike_down(t=x, m=m_random, r=r_random, x=x_random, t3=t3, d=d_ssd) for x in time])\n",
    "    single_spike_downs.append(y_ssd)\n",
    "print('Generated', N_SAMPLES, 'Single Spike Down samples!')"
   ]
  },
  {
   "cell_type": "markdown",
   "metadata": {},
   "source": [
    "<a id=\"hill\"></a>\n",
    "\n",
    "## Hill"
   ]
  },
  {
   "cell_type": "code",
   "execution_count": 668,
   "metadata": {},
   "outputs": [
    {
     "name": "stdout",
     "output_type": "stream",
     "text": [
      "Generated 5000 Hill samples!\n"
     ]
    }
   ],
   "source": [
    "hills = []\n",
    "time = np.arange(TIMESTAMPS)\n",
    "\n",
    "for i in range(N_SAMPLES):\n",
    "    m_random, r_random, x_random, hill_start = randint(0,10000), randint(0,500), randint(0, 5000), randint(t0 + 1, t_max - 5)\n",
    "    \n",
    "    hill_end = randint(hill_start+4, t_max-1)\n",
    "    \n",
    "    d_hill = hill_end - hill_start\n",
    "    \n",
    "    y_hill = np.array([hill(t=x, m=m_random, r=r_random, x=x_random, t3=hill_start, d=d_hill) for x in time])\n",
    "    hills.append(y_hill)\n",
    "print('Generated', N_SAMPLES, 'Hill samples!')"
   ]
  },
  {
   "cell_type": "markdown",
   "metadata": {},
   "source": [
    "<a id=\"dip\"></a>\n",
    "\n",
    "## Dip"
   ]
  },
  {
   "cell_type": "code",
   "execution_count": 287,
   "metadata": {},
   "outputs": [
    {
     "name": "stdout",
     "output_type": "stream",
     "text": [
      "Generated 5000 Hill samples!\n"
     ]
    }
   ],
   "source": [
    "dips = []\n",
    "time = np.arange(TIMESTAMPS)\n",
    "\n",
    "for i in range(N_SAMPLES):\n",
    "    m_random, r_random, x_random, hill_start = randint(0,10000), randint(0,500), randint(0, 5000), randint(t0 + 1, t_max - 5)\n",
    "    \n",
    "    hill_end = randint(hill_start+4, t_max-1)\n",
    "    \n",
    "    d_dip = hill_end - hill_start\n",
    "    \n",
    "    y_dip = np.array([dip(t=x, m=m_random, r=r_random, x=x_random, t3=hill_start, d=d_dip) for x in time])\n",
    "    dips.append(y_dip)\n",
    "print('Generated', N_SAMPLES, 'Hill samples!')"
   ]
  },
  {
   "cell_type": "markdown",
   "metadata": {},
   "source": [
    "<a id=\"chainsaw\"></a>\n",
    "\n",
    "## Chainsaw"
   ]
  },
  {
   "cell_type": "code",
   "execution_count": 225,
   "metadata": {},
   "outputs": [
    {
     "name": "stdout",
     "output_type": "stream",
     "text": [
      "Generated 5000 Chainsaw samples!\n"
     ]
    }
   ],
   "source": [
    "chainsaws = []\n",
    "time = np.arange(TIMESTAMPS)\n",
    "\n",
    "for _ in range(N_SAMPLES):\n",
    "    m_random, r_random = randint(0,10000), randint(500,5000)\n",
    "    y_chainsaw = np.array([chainsaw(m=m_random, r=r_random) for x in time])\n",
    "    chainsaws.append(y_chainsaw)\n",
    "print('Generated', N_SAMPLES, 'Chainsaw samples!')"
   ]
  },
  {
   "cell_type": "markdown",
   "metadata": {},
   "source": [
    "<a id=\"upward_trend\"></a>\n",
    "\n",
    "## Upward Trend"
   ]
  },
  {
   "cell_type": "code",
   "execution_count": 270,
   "metadata": {},
   "outputs": [
    {
     "name": "stdout",
     "output_type": "stream",
     "text": [
      "Generated 5000 Upward Trend samples!\n"
     ]
    }
   ],
   "source": [
    "upward_trends = []\n",
    "time = np.arange(TIMESTAMPS)\n",
    "\n",
    "for _ in range(N_SAMPLES):\n",
    "    m_random, r_random = randint(0, 10000), randint(0,500)\n",
    "    y_upward_trend = np.array([upward_trend(t=x, m=m_random, r=r_random) for x in time])\n",
    "    upward_trends.append(y_upward_trend)\n",
    "print('Generated', N_SAMPLES, 'Upward Trend samples!')"
   ]
  },
  {
   "cell_type": "markdown",
   "metadata": {},
   "source": [
    "<a id=\"downward_trend\"></a>\n",
    "\n",
    "## Downward Trend"
   ]
  },
  {
   "cell_type": "code",
   "execution_count": 277,
   "metadata": {},
   "outputs": [
    {
     "name": "stdout",
     "output_type": "stream",
     "text": [
      "Generated 5000 Downward Trend samples!\n"
     ]
    }
   ],
   "source": [
    "downward_trends = []\n",
    "time = np.arange(TIMESTAMPS)\n",
    "\n",
    "for _ in range(N_SAMPLES):\n",
    "    m_random, r_random = randint(0, 10000), randint(0,500)\n",
    "    y_downward_trend = np.array([upward_trend(t=x, m=m_random, r=r_random) for x in time])\n",
    "    downward_trends.append(y_downward_trend[::-1])\n",
    "print('Generated', N_SAMPLES, 'Downward Trend samples!')"
   ]
  },
  {
   "cell_type": "markdown",
   "metadata": {},
   "source": [
    "<a id=\"cliff_up\"></a>\n",
    "\n",
    "## Cliff Up"
   ]
  },
  {
   "cell_type": "code",
   "execution_count": 679,
   "metadata": {},
   "outputs": [
    {
     "name": "stdout",
     "output_type": "stream",
     "text": [
      "Generated 5000 Cliff Up samples!\n"
     ]
    }
   ],
   "source": [
    "cliff_ups = []\n",
    "time = np.arange(TIMESTAMPS)\n",
    "\n",
    "for i in range(N_SAMPLES):\n",
    "    m_random, r_random, x_random, cliff_start = randint(0,10000), randint(0,500), randint(0, 5000), randint(t0 + 5, t_max)\n",
    "    d_cu = t_max - cliff_start\n",
    "    y_cu = np.array([cliff_up(t=x, m=m_random, r=r_random, x=x_random, t3=cliff_start, d=d_cu) for x in time])\n",
    "    cliff_ups.append(y_cu)\n",
    "print('Generated', N_SAMPLES, 'Cliff Up samples!')"
   ]
  },
  {
   "cell_type": "markdown",
   "metadata": {},
   "source": [
    "<a id=\"cliff_down\"></a>\n",
    "\n",
    "## Cliff Down"
   ]
  },
  {
   "cell_type": "code",
   "execution_count": 681,
   "metadata": {},
   "outputs": [
    {
     "name": "stdout",
     "output_type": "stream",
     "text": [
      "Generated 5000 Cliff Down samples!\n"
     ]
    }
   ],
   "source": [
    "cliff_downs = []\n",
    "time = np.arange(TIMESTAMPS)\n",
    "\n",
    "for i in range(N_SAMPLES):\n",
    "    m_random, r_random, x_random, cliff_start = randint(0,10000), randint(0,500), randint(0, 5000), randint(t0 + 5, t_max)\n",
    "    #x_random = 10000\n",
    "    d_cd = t_max - cliff_start\n",
    "    y_cd = np.array([cliff_up(t=x, m=m_random, r=r_random, x=x_random, t3=cliff_start, d=d_cd) for x in time])\n",
    "    cliff_downs.append(y_cd[::-1])\n",
    "print('Generated', N_SAMPLES, 'Cliff Down samples!')"
   ]
  },
  {
   "cell_type": "markdown",
   "metadata": {},
   "source": [
    "<a id=\"several_spikes_up\"></a>\n",
    "\n",
    "## Several Spikes Up"
   ]
  },
  {
   "cell_type": "code",
   "execution_count": 651,
   "metadata": {},
   "outputs": [
    {
     "name": "stdout",
     "output_type": "stream",
     "text": [
      "Generated 5000 Several Spike Up samples!\n"
     ]
    }
   ],
   "source": [
    "several_spike_ups = []\n",
    "time = np.arange(TIMESTAMPS)\n",
    "\n",
    "for i in range(N_SAMPLES):\n",
    "    m_random, r_random, x_random, ks = randint(0,10000), randint(0,500), randint(4000, 5000), generate_ks(randint(3,7), TIMESTAMPS)\n",
    "    y_ssu = np.array([several_spike_up(t=x, k=k, m=m_random, r=r_random, x=x_random) for x,k in zip(time, ks)])\n",
    "    several_spike_ups.append(y_ssu)\n",
    "print('Generated', N_SAMPLES, 'Several Spike Up samples!')"
   ]
  },
  {
   "cell_type": "markdown",
   "metadata": {},
   "source": [
    "<a id=\"several_spikes_down\"></a>\n",
    "\n",
    "## Several Spikes Down"
   ]
  },
  {
   "cell_type": "code",
   "execution_count": 635,
   "metadata": {},
   "outputs": [
    {
     "name": "stdout",
     "output_type": "stream",
     "text": [
      "Generated 5000 Several Spike Down samples!\n"
     ]
    }
   ],
   "source": [
    "several_spike_downs = []\n",
    "time = np.arange(TIMESTAMPS)\n",
    "\n",
    "for i in range(N_SAMPLES):\n",
    "    m_random, r_random, x_random, ks = randint(0,10000), randint(0,500), randint(4000, 5000), generate_ks(3, TIMESTAMPS)\n",
    "    y_ssd = np.array([several_spike_down(t=x, k=k, m=m_random, r=r_random, x=x_random) for x,k in zip(time, ks)])\n",
    "    several_spike_downs.append(y_ssd)\n",
    "print('Generated', N_SAMPLES, 'Several Spike Down samples!')"
   ]
  },
  {
   "cell_type": "markdown",
   "metadata": {},
   "source": [
    "<a id=\"plotting\"></a>\n",
    "# Plots"
   ]
  },
  {
   "cell_type": "code",
   "execution_count": 299,
   "metadata": {},
   "outputs": [],
   "source": [
    "def random_plot(pattern, nrows, ncols, y_max_lim, y_min_lim=-100):\n",
    "    fig, ax = plt.subplots(nrows=nrows, ncols=ncols, sharey=True, figsize=(20,10))\n",
    "    for i in range(nrows):\n",
    "        for j in range(ncols):\n",
    "            ax[i, j].plot(pattern[randint(0, len(pattern)-1)])\n",
    "            ax[i, j].grid(True)\n",
    "            plt.ylim(y_min_lim,y_max_lim)\n",
    "            ax[i, j].set_xlabel('Dates')\n",
    "            ax[i, j].set_ylabel('CVs')"
   ]
  },
  {
   "cell_type": "code",
   "execution_count": 683,
   "metadata": {},
   "outputs": [
    {
     "data": {
      "image/png": "[encoded data removed]",
      "text/plain": [
       "<Figure size 1440x720 with 4 Axes>"
      ]
     },
     "metadata": {
      "needs_background": "light"
     },
     "output_type": "display_data"
    }
   ],
   "source": [
    "random_plot(cliff_downs, nrows=2, ncols=2, y_max_lim=25000)"
   ]
  }
 ],
 "metadata": {
  "kernelspec": {
   "display_name": "Python 3",
   "language": "python",
   "name": "python3"
  },
  "language_info": {
   "codemirror_mode": {
    "name": "ipython",
    "version": 3
   },
   "file_extension": ".py",
   "mimetype": "text/x-python",
   "name": "python",
   "nbconvert_exporter": "python",
   "pygments_lexer": "ipython3",
   "version": "3.6.11"
  }
 },
 "nbformat": 4,
 "nbformat_minor": 4
}
